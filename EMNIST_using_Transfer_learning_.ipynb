{
  "nbformat": 4,
  "nbformat_minor": 0,
  "metadata": {
    "colab": {
      "provenance": [],
      "authorship_tag": "ABX9TyMqG193RW2dpPe3rhjnjrbL",
      "include_colab_link": true
    },
    "kernelspec": {
      "name": "python3",
      "display_name": "Python 3"
    },
    "language_info": {
      "name": "python"
    }
  },
  "cells": [
    {
      "cell_type": "markdown",
      "metadata": {
        "id": "view-in-github",
        "colab_type": "text"
      },
      "source": [
        "<a href=\"https://colab.research.google.com/github/mary270/Deep_Learning/blob/main/EMNIST_using_Transfer_learning_.ipynb\" target=\"_parent\"><img src=\"https://colab.research.google.com/assets/colab-badge.svg\" alt=\"Open In Colab\"/></a>"
      ]
    },
    {
      "cell_type": "markdown",
      "source": [
        "##Use the MNIST weights and train a new model for EMNIST using transfer learning with those previous MNIST weights."
      ],
      "metadata": {
        "id": "jBQRJH1KfbmA"
      }
    },
    {
      "cell_type": "code",
      "source": [
        "import numpy as np\n",
        "import keras\n",
        "from keras.datasets import mnist\n",
        "from keras.models import Sequential\n",
        "from keras.layers import Dense, Dropout, Flatten\n",
        "from keras.layers.convolutional import Conv2D, MaxPooling2D\n",
        "from keras.utils import np_utils\n",
        "\n",
        "# Load MNIST data\n",
        "(X_train_mnist, y_train_mnist), (X_test_mnist, y_test_mnist) = mnist.load_data()\n",
        "\n",
        "# Load EMNIST data\n",
        "# Load EMNIST data from local file\n",
        "# Replace <PATH_TO_EMNIST> with the path to the EMNIST dataset file\n",
        "emnist_data = np.load('/content/emnist-letters-train-images-idx3-ubyte', allow_pickle=True)\n",
        "\n",
        "X_train_emnist, y_train_emnist = emnist_data['X_train'], emnist_data['y_train']\n",
        "X_test_emnist, y_test_emnist = emnist_data['X_test'], emnist_data['y_test']\n",
        "\n",
        "# Preprocess data\n",
        "X_train_mnist = X_train_mnist.reshape(X_train_mnist.shape[0], 28, 28, 1).astype('float32') / 255\n",
        "X_test_mnist = X_test_mnist.reshape(X_test_mnist.shape[0], 28, 28, 1).astype('float32') / 255\n",
        "\n",
        "X_train_emnist = X_train_emnist.reshape(X_train_emnist.shape[0], 28, 28, 1).astype('float32') / 255\n",
        "X_test_emnist = X_test_emnist.reshape(X_test_emnist.shape[0], 28, 28, 1).astype('float32') / 255\n",
        "\n",
        "y_train_mnist = np_utils.to_categorical(y_train_mnist)\n",
        "y_test_mnist = np_utils.to_categorical(y_test_mnist)\n",
        "\n",
        "y_train_emnist = np_utils.to_categorical(y_train_emnist)\n",
        "y_test_emnist = np_utils.to_categorical(y_test_emnist)\n",
        "\n",
        "# Load pre-trained MNIST model weights\n",
        "mnist_model = keras.models.load_model('mnist_model.h5')\n",
        "\n",
        "# Create a new model for EMNIST\n",
        "emnist_model = Sequential()\n",
        "\n",
        "# Copy the architecture of the MNIST model (except for the output layer)\n",
        "for layer in mnist_model.layers[:-1]:\n",
        "    emnist_model.add(layer)\n",
        "\n",
        "# Add a new output layer for EMNIST\n",
        "emnist_model.add(Dense(47, activation='softmax'))  # 47 classes in EMNIST\n",
        "\n",
        "# Compile the model\n",
        "emnist_model.compile(optimizer='adam', loss='categorical_crossentropy', metrics=['accuracy'])\n",
        "\n",
        "# Transfer the weights from the pre-trained MNIST model to the new EMNIST model\n",
        "for i in range(len(emnist_model.layers) - 1):\n",
        "    emnist_model.layers[i].set_weights(mnist_model.layers[i].get_weights())\n",
        "\n",
        "# Train the EMNIST model\n",
        "emnist_model.fit(X_train_emnist, y_train_emnist, validation_data=(X_test_emnist, y_test_emnist), batch_size=128, epochs=10)\n",
        "\n",
        "# Evaluate the EMNIST model\n",
        "emnist_loss, emnist_acc = emnist_model.evaluate(X_test_emnist, y_test_emnist)\n",
        "print('EMNIST Test Loss:', emnist_loss)\n",
        "print('EMNIST Test Accuracy:', emnist_acc)\n",
        "\n",
        "# Save the trained EMNIST model\n",
        "emnist_model.save('emnist_model.h5')\n"
      ],
      "metadata": {
        "id": "EGaurYzifXUM"
      },
      "execution_count": null,
      "outputs": []
    }
  ]
}